{
 "cells": [
  {
   "cell_type": "code",
   "execution_count": 1,
   "metadata": {},
   "outputs": [],
   "source": [
    "# Importing the libraries\n",
    "from RBM import RBM\n",
    "import torch \n",
    "import torchvision\n",
    "from torchvision import datasets,transforms\n",
    "from torch.utils.data import Dataset,DataLoader\n",
    "\n",
    "import matplotlib\n",
    "import matplotlib.pyplot as plt\n",
    "\n",
    "import math\n",
    "import numpy as np"
   ]
  },
  {
   "cell_type": "code",
   "execution_count": 2,
   "metadata": {},
   "outputs": [],
   "source": [
    "#Loading MNIST dataset\n",
    "mnist_data = datasets.MNIST('../data', train=True, download=True,\n",
    "                    transform=transforms.Compose(\n",
    "                    [transforms.ToTensor(),transforms.Normalize((0.1307,), (0.3081,))]))"
   ]
  },
  {
   "cell_type": "code",
   "execution_count": 3,
   "metadata": {},
   "outputs": [
    {
     "name": "stdout",
     "output_type": "stream",
     "text": [
      "The number shown is the number: 2\n"
     ]
    },
    {
     "data": {
      "image/png": "[encoded data removed]",
      "text/plain": [
       "<Figure size 432x288 with 1 Axes>"
      ]
     },
     "metadata": {},
     "output_type": "display_data"
    }
   ],
   "source": [
    "#Lets us visualize a number from the data set\n",
    "idx = 5\n",
    "img = mnist_data.train_data[idx]\n",
    "print(\"The number shown is the number: {}\".format(mnist_data.train_labels[idx]) )\n",
    "plt.imshow(img , cmap = 'gray')\n",
    "plt.show()"
   ]
  },
  {
   "cell_type": "code",
   "execution_count": 4,
   "metadata": {},
   "outputs": [],
   "source": [
    "# If we train on the whole set we expect it to learn to detect edges.\n",
    "train_loader = torch.utils.data.DataLoader(mnist_data,\n",
    "                    batch_size=64, shuffle=True)"
   ]
  },
  {
   "cell_type": "code",
   "execution_count": 5,
   "metadata": {},
   "outputs": [],
   "source": [
    "rbm_mnist = RBM(visible_units=28*28 , hidden_units=64 , use_gpu=False , learning_rate = 1e-5)"
   ]
  },
  {
   "cell_type": "code",
   "execution_count": null,
   "metadata": {},
   "outputs": [
    {
     "name": "stdout",
     "output_type": "stream",
     "text": [
      "Average Epoch Error per iteration (epoch:0) : 951.2763\n",
      "Average Epoch Error per iteration (epoch:1) : 868.3217\n",
      "Average Epoch Error per iteration (epoch:2) : 768.3509\n",
      "Average Epoch Error per iteration (epoch:3) : 711.0263\n",
      "Average Epoch Error per iteration (epoch:4) : 682.1713\n",
      "Average Epoch Error per iteration (epoch:5) : 666.3649\n",
      "Average Epoch Error per iteration (epoch:6) : 657.0321\n"
     ]
    }
   ],
   "source": [
    "epochs = 1000\n",
    "batch_size = 64\n",
    "rbm_mnist.train(train_loader , epochs , batch_size)"
   ]
  },
  {
   "cell_type": "code",
   "execution_count": null,
   "metadata": {},
   "outputs": [],
   "source": [
    "# This shows the weights for each of the 64 hidden neurons and give an idea how each neuron is activated.\n",
    "f , axarr = plt.subplots(8 , 8 , True, True)\n",
    "f.set_figheight(15)\n",
    "f.set_figwidth(15)\n",
    "learned_weights = rbm_mnist.weight.transpose(0,1).numpy()\n",
    "for i in range(8):    \n",
    "    for j in range(8):\n",
    "        w = learned_weights[8 * i + j,:].reshape(28,28)\n",
    "        \n",
    "        axarr[i,j].imshow(w , cmap= 'gray')        \n",
    "\n",
    "\n",
    "# plt.tight_layout()\n",
    "plt.show()"
   ]
  },
  {
   "cell_type": "code",
   "execution_count": null,
   "metadata": {},
   "outputs": [],
   "source": []
  }
 ],
 "metadata": {
  "kernelspec": {
   "display_name": "Python 3",
   "language": "python",
   "name": "python3"
  },
  "language_info": {
   "codemirror_mode": {
    "name": "ipython",
    "version": 3
   },
   "file_extension": ".py",
   "mimetype": "text/x-python",
   "name": "python",
   "nbconvert_exporter": "python",
   "pygments_lexer": "ipython3",
   "version": "3.6.5"
  }
 },
 "nbformat": 4,
 "nbformat_minor": 2
}
