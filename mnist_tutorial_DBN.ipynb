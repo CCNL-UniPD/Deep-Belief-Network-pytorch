{
 "cells": [
  {
   "cell_type": "code",
   "execution_count": 1,
   "metadata": {},
   "outputs": [],
   "source": [
    "# Importing the libraries\n",
    "from DBN import DBN\n",
    "import torch \n",
    "import torchvision\n",
    "from torchvision import datasets,transforms\n",
    "from torch.utils.data import Dataset,DataLoader\n",
    "\n",
    "import matplotlib\n",
    "import matplotlib.pyplot as plt\n",
    "\n",
    "import math\n",
    "import numpy as np"
   ]
  },
  {
   "cell_type": "code",
   "execution_count": 2,
   "metadata": {},
   "outputs": [],
   "source": [
    "#Loading MNIST dataset\n",
    "mnist_data = datasets.MNIST('../data', train=True, download=True,\n",
    "                    transform=transforms.Compose(\n",
    "                    [transforms.ToTensor(),transforms.Normalize((0.1307,), (0.3081,))]))"
   ]
  },
  {
   "cell_type": "code",
   "execution_count": 3,
   "metadata": {},
   "outputs": [
    {
     "name": "stdout",
     "output_type": "stream",
     "text": [
      "The number shown is the number: 2\n"
     ]
    },
    {
     "data": {
      "image/png": "[encoded data removed]",
      "text/plain": [
       "<Figure size 432x288 with 1 Axes>"
      ]
     },
     "metadata": {},
     "output_type": "display_data"
    }
   ],
   "source": [
    "#Lets us visualize a number from the data set\n",
    "idx = 5\n",
    "img = mnist_data.train_data[idx]\n",
    "print(\"The number shown is the number: {}\".format(mnist_data.train_labels[idx]) )\n",
    "plt.imshow(img , cmap = 'gray')\n",
    "plt.show()"
   ]
  },
  {
   "cell_type": "code",
   "execution_count": 5,
   "metadata": {},
   "outputs": [],
   "source": [
    "# I have have set these hyper parameters although you can experiment with them to find better hyperparameters.\n",
    "dbn_mnist = DBN(visible_units=28*28 ,\n",
    "                hidden_units=[128 , 64] ,\n",
    "                k = 2, learning_rate = 1.3e-5,\n",
    "                momentum_coefficient = 0.5,\n",
    "                weight_decay = 1.4e-4,\n",
    "                use_gpu = False,\n",
    "               _activation='sigmoid')"
   ]
  },
  {
   "cell_type": "code",
   "execution_count": null,
   "metadata": {},
   "outputs": [
    {
     "name": "stdout",
     "output_type": "stream",
     "text": [
      "--------------------\n",
      "Training the 1 st rbm layer\n",
      "Epoch Error(epoch:0) : 339518390272.0000\n",
      "Epoch Error(epoch:1) : 339502858240.0000\n",
      "Epoch Error(epoch:2) : 339502071808.0000\n",
      "Epoch Error(epoch:3) : 339501645824.0000\n",
      "Epoch Error(epoch:4) : 339501252608.0000\n",
      "Epoch Error(epoch:5) : 339500859392.0000\n",
      "Epoch Error(epoch:6) : 339500400640.0000\n",
      "Epoch Error(epoch:7) : 339500040192.0000\n"
     ]
    }
   ],
   "source": [
    "dbn_mnist.train_static(mnist_data.train_data,mnist_data.train_labels,30 , 64)"
   ]
  },
  {
   "cell_type": "code",
   "execution_count": null,
   "metadata": {},
   "outputs": [],
   "source": []
  }
 ],
 "metadata": {
  "kernelspec": {
   "display_name": "Python 3",
   "language": "python",
   "name": "python3"
  },
  "language_info": {
   "codemirror_mode": {
    "name": "ipython",
    "version": 3
   },
   "file_extension": ".py",
   "mimetype": "text/x-python",
   "name": "python",
   "nbconvert_exporter": "python",
   "pygments_lexer": "ipython3",
   "version": "3.6.5"
  }
 },
 "nbformat": 4,
 "nbformat_minor": 2
}
